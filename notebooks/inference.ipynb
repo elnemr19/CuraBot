{
 "cells": [
  {
   "cell_type": "code",
   "execution_count": 2,
   "id": "c7d5f2e7",
   "metadata": {},
   "outputs": [],
   "source": [
    "# !pip install -U bitsandbytes\n",
    "# !pip install -q transformers peft gradio accelerate"
   ]
  },
  {
   "cell_type": "code",
   "execution_count": 1,
   "id": "864bb84b",
   "metadata": {},
   "outputs": [
    {
     "name": "stdout",
     "output_type": "stream",
     "text": [
      "Fri May  9 18:51:21 2025       \n",
      "+-----------------------------------------------------------------------------------------+\n",
      "| NVIDIA-SMI 566.41                 Driver Version: 566.41         CUDA Version: 12.7     |\n",
      "|-----------------------------------------+------------------------+----------------------+\n",
      "| GPU  Name                  Driver-Model | Bus-Id          Disp.A | Volatile Uncorr. ECC |\n",
      "| Fan  Temp   Perf          Pwr:Usage/Cap |           Memory-Usage | GPU-Util  Compute M. |\n",
      "|                                         |                        |               MIG M. |\n",
      "|=========================================+========================+======================|\n",
      "|   0  NVIDIA GeForce GTX 1650      WDDM  |   00000000:01:00.0 Off |                  N/A |\n",
      "| N/A   58C    P8              4W /   60W |       1MiB /   4096MiB |      0%      Default |\n",
      "|                                         |                        |                  N/A |\n",
      "+-----------------------------------------+------------------------+----------------------+\n",
      "                                                                                         \n",
      "+-----------------------------------------------------------------------------------------+\n",
      "| Processes:                                                                              |\n",
      "|  GPU   GI   CI        PID   Type   Process name                              GPU Memory |\n",
      "|        ID   ID                                                               Usage      |\n",
      "|=========================================================================================|\n",
      "|    0   N/A  N/A      5744      C   ...ta\\Local\\Programs\\Ollama\\ollama.exe      N/A      |\n",
      "+-----------------------------------------------------------------------------------------+\n"
     ]
    }
   ],
   "source": [
    "!nvidia-smi"
   ]
  },
  {
   "cell_type": "code",
   "execution_count": null,
   "id": "e893ba18",
   "metadata": {},
   "outputs": [],
   "source": [
    "import modal\n",
    "from fastapi import Request\n",
    "from transformers import AutoTokenizer, AutoModelForCausalLM, BitsAndBytesConfig\n",
    "from peft import PeftModel\n",
    "\n",
    "app = modal.App(\"qwen2.5-medical\")\n",
    "\n",
    "# Define the image with required packages, including FastAPI\n",
    "image = (\n",
    "    modal.Image.debian_slim()\n",
    "    .pip_install(\"transformers\", \"torch\", \"peft\", \"accelerate\", \"bitsandbytes\", \"fastapi[standard]\")\n",
    ")\n",
    "\n",
    "@app.function(image=image, gpu=\"T4\", timeout=600)\n",
    "@modal.web_endpoint(method=\"POST\")\n",
    "async def web_response(request: Request):\n",
    "    # Parse JSON data from the request body\n",
    "    data = await request.json()\n",
    "    \n",
    "    # Extract 'instruction' from the JSON data\n",
    "    instruction = data.get(\"instruction\")\n",
    "\n",
    "    if not instruction:\n",
    "        return {\"error\": \"Missing instruction.\"}\n",
    "\n",
    "    base_model_name = \"Qwen/Qwen2.5-3B-Instruct\"\n",
    "    adapter_model_id = \"AbdullahAlnemr1/qwen2.5-medical-lora\"\n",
    "\n",
    "    # Load the tokenizer\n",
    "    tokenizer = AutoTokenizer.from_pretrained(base_model_name, trust_remote_code=True)\n",
    "\n",
    "    # Set up configuration for quantization\n",
    "    bnb_config = BitsAndBytesConfig(\n",
    "        load_in_4bit=True,\n",
    "        bnb_4bit_compute_dtype=\"float16\",\n",
    "        bnb_4bit_use_double_quant=True,\n",
    "        bnb_4bit_quant_type=\"nf4\",\n",
    "    )\n",
    "\n",
    "    # Load the base model\n",
    "    base_model = AutoModelForCausalLM.from_pretrained(\n",
    "        base_model_name,\n",
    "        device_map=\"auto\",\n",
    "        quantization_config=bnb_config,\n",
    "        trust_remote_code=True\n",
    "    )\n",
    "\n",
    "    # Load the adapter model\n",
    "    model = PeftModel.from_pretrained(base_model, adapter_model_id)\n",
    "    model = model.merge_and_unload()\n",
    "    model.eval()\n",
    "\n",
    "    # Set up padding for the tokenizer\n",
    "    tokenizer.pad_token = tokenizer.eos_token\n",
    "    tokenizer.padding_side = \"right\"\n",
    "\n",
    "    # Construct the prompt\n",
    "    prompt = f\"\"\"<|im_start|>system\n",
    "You are a highly knowledgeable and accurate medical assistant trained to provide evidence-based medical advice. Answer clearly and concisely using medical best practices.<|im_end|>\n",
    "<|im_start|>user\n",
    "Instruction: {instruction}<|im_end|>\n",
    "<|im_start|>assistant\n",
    "\"\"\"\n",
    "\n",
    "    # Tokenize the prompt\n",
    "    inputs = tokenizer(prompt, return_tensors=\"pt\", truncation=True, max_length=512).to(model.device)\n",
    "\n",
    "    # Generate the output from the model\n",
    "    outputs = model.generate(\n",
    "        **inputs,\n",
    "        max_new_tokens=512,\n",
    "        temperature=0.7,\n",
    "        top_p=0.9,\n",
    "        do_sample=True,\n",
    "        pad_token_id=tokenizer.eos_token_id\n",
    "    )\n",
    "\n",
    "    # Decode the model output\n",
    "    decoded = tokenizer.decode(outputs[0], skip_special_tokens=True)\n",
    "\n",
    "    # Clean the decoded output\n",
    "    cleaned = decoded.split(\"<|im_start|>assistant\")[-1].split(\"<|im_end|>\")[0].strip()\n",
    "\n",
    "    # Ensure that the cleaned response is valid\n",
    "    if not cleaned:\n",
    "        return {\"error\": \"Failed to generate response from model.\"}\n",
    "\n",
    "    # Return the response\n",
    "    return {\"response\": cleaned}\n"
   ]
  },
  {
   "cell_type": "code",
   "execution_count": null,
   "id": "3dfa9be0",
   "metadata": {},
   "outputs": [
    {
     "name": "stdout",
     "output_type": "stream",
     "text": [
      "{'response': 'Error: Unable to parse the response.'}\n"
     ]
    }
   ],
   "source": [
    "import requests\n",
    "\n",
    "# put yor url here\n",
    "url = \"\"\n",
    "res = requests.post(url, json={\"instruction\": \"What are the symptoms of diabetes?\"})\n",
    "print(res.json())"
   ]
  },
  {
   "cell_type": "code",
   "execution_count": null,
   "id": "54dacd13",
   "metadata": {},
   "outputs": [
    {
     "data": {
      "text/html": [
       "<pre style=\"white-space:pre;overflow-x:auto;line-height:normal;font-family:Menlo,'DejaVu Sans Mono',consolas,'Courier New',monospace\">Based on your description, the symptoms you're experiencing—persistent abdominal bloating, changes in bowel habits,\n",
       "lower abdominal pain, fatigue, and unintentional weight loss—are concerning but do not necessarily indicate colon  \n",
       "cancer. Conditions such as irritable bowel syndrome (IBS) and inflammatory bowel disease (IBD) can cause similar   \n",
       "symptoms. However, given your age and duration of symptoms, other conditions should also be considered.            \n",
       "\n",
       "It would be wise to consult your primary care physician for a thorough evaluation. They may recommend:             \n",
       "\n",
       "<span style=\"color: #808000; text-decoration-color: #808000; font-weight: bold\"> 1 </span><span style=\"font-weight: bold\">A Complete Medical History and Physical Exam</span>: To assess overall health and rule out other less serious causes.  \n",
       "<span style=\"color: #808000; text-decoration-color: #808000; font-weight: bold\"> 2 </span><span style=\"font-weight: bold\">Diagnostic Tests</span>:                                                                                               \n",
       "<span style=\"color: #808000; text-decoration-color: #808000; font-weight: bold\">    • </span><span style=\"font-weight: bold\">Fecal Occult Blood Test (FOBT)</span>: To check for hidden blood in the stool, which could indicate colorectal      \n",
       "<span style=\"color: #808000; text-decoration-color: #808000; font-weight: bold\">      </span>cancer or other conditions.                                                                                  \n",
       "<span style=\"color: #808000; text-decoration-color: #808000; font-weight: bold\">    • </span><span style=\"font-weight: bold\">Colonoscopy</span>: To examine the entire length of your colon and rectum. This procedure can detect polyps or early\n",
       "<span style=\"color: #808000; text-decoration-color: #808000; font-weight: bold\">      </span>signs of cancer.                                                                                             \n",
       "<span style=\"color: #808000; text-decoration-color: #808000; font-weight: bold\">    • </span><span style=\"font-weight: bold\">Flexible Sigmoidoscopy</span>: A shorter version of the colonoscopy, examining only the lower part of the large     \n",
       "<span style=\"color: #808000; text-decoration-color: #808000; font-weight: bold\">      </span>intestine.                                                                                                   \n",
       "<span style=\"color: #808000; text-decoration-color: #808000; font-weight: bold\">    • </span><span style=\"font-weight: bold\">Blood Tests</span>: To check for anemia, inflammation markers, and other indicators of potential underlying         \n",
       "<span style=\"color: #808000; text-decoration-color: #808000; font-weight: bold\">      </span>conditions.                                                                                                  \n",
       "<span style=\"color: #808000; text-decoration-color: #808000; font-weight: bold\">    • </span><span style=\"font-weight: bold\">Imaging Studies</span>: Such as CT scans or MRIs if your doctor suspects more advanced issues.                      \n",
       "\n",
       "Given the persistence and gradual worsening of your symptoms, prompt evaluation by a healthcare professional is    \n",
       "crucial. Early diagnosis and treatment can significantly improve outcomes, so it's important not to delay seeking  \n",
       "medical attention.                                                                                                 \n",
       "</pre>\n"
      ],
      "text/plain": [
       "Based on your description, the symptoms you're experiencing—persistent abdominal bloating, changes in bowel habits,\n",
       "lower abdominal pain, fatigue, and unintentional weight loss—are concerning but do not necessarily indicate colon  \n",
       "cancer. Conditions such as irritable bowel syndrome (IBS) and inflammatory bowel disease (IBD) can cause similar   \n",
       "symptoms. However, given your age and duration of symptoms, other conditions should also be considered.            \n",
       "\n",
       "It would be wise to consult your primary care physician for a thorough evaluation. They may recommend:             \n",
       "\n",
       "\u001b[1;33m 1 \u001b[0m\u001b[1mA Complete Medical History and Physical Exam\u001b[0m: To assess overall health and rule out other less serious causes.  \n",
       "\u001b[1;33m 2 \u001b[0m\u001b[1mDiagnostic Tests\u001b[0m:                                                                                               \n",
       "\u001b[1;33m   \u001b[0m\u001b[1;33m • \u001b[0m\u001b[1mFecal Occult Blood Test (FOBT)\u001b[0m: To check for hidden blood in the stool, which could indicate colorectal      \n",
       "\u001b[1;33m   \u001b[0m\u001b[1;33m   \u001b[0mcancer or other conditions.                                                                                  \n",
       "\u001b[1;33m   \u001b[0m\u001b[1;33m • \u001b[0m\u001b[1mColonoscopy\u001b[0m: To examine the entire length of your colon and rectum. This procedure can detect polyps or early\n",
       "\u001b[1;33m   \u001b[0m\u001b[1;33m   \u001b[0msigns of cancer.                                                                                             \n",
       "\u001b[1;33m   \u001b[0m\u001b[1;33m • \u001b[0m\u001b[1mFlexible Sigmoidoscopy\u001b[0m: A shorter version of the colonoscopy, examining only the lower part of the large     \n",
       "\u001b[1;33m   \u001b[0m\u001b[1;33m   \u001b[0mintestine.                                                                                                   \n",
       "\u001b[1;33m   \u001b[0m\u001b[1;33m • \u001b[0m\u001b[1mBlood Tests\u001b[0m: To check for anemia, inflammation markers, and other indicators of potential underlying         \n",
       "\u001b[1;33m   \u001b[0m\u001b[1;33m   \u001b[0mconditions.                                                                                                  \n",
       "\u001b[1;33m   \u001b[0m\u001b[1;33m • \u001b[0m\u001b[1mImaging Studies\u001b[0m: Such as CT scans or MRIs if your doctor suspects more advanced issues.                      \n",
       "\n",
       "Given the persistence and gradual worsening of your symptoms, prompt evaluation by a healthcare professional is    \n",
       "crucial. Early diagnosis and treatment can significantly improve outcomes, so it's important not to delay seeking  \n",
       "medical attention.                                                                                                 \n"
      ]
     },
     "metadata": {},
     "output_type": "display_data"
    }
   ],
   "source": [
    "from rich.markdown import Markdown\n",
    "from rich.console import Console\n",
    "import requests\n",
    "\n",
    "\n",
    "#put your url here\n",
    "url = \"\"\n",
    "res = requests.post(url, json={\"instruction\": \"I'm a 35-year-old woman who has been experiencing persistent abdominal bloating, changes in bowel habits (alternating between constipation and diarrhea), and occasional lower abdominal pain for the past 3 months. I’ve also noticed that I feel more tired than usual and have lost a bit of weight without trying. I don’t have any significant medical history, and these symptoms have gradually worsened over time. Could this be something serious like colon cancer, or is it more likely to be something benign like IBS? What should I do next?\"})\n",
    "\n",
    "# Extract Markdown response\n",
    "markdown_text = res.json()[\"response\"]\n",
    "\n",
    "# Render Markdown in terminal\n",
    "console = Console()\n",
    "console.print(Markdown(markdown_text))"
   ]
  },
  {
   "cell_type": "code",
   "execution_count": null,
   "id": "83bed4ae",
   "metadata": {},
   "outputs": [],
   "source": []
  },
  {
   "cell_type": "markdown",
   "id": "d0089164",
   "metadata": {},
   "source": [
    "## speak or type"
   ]
  },
  {
   "cell_type": "code",
   "execution_count": null,
   "id": "92959a3f",
   "metadata": {},
   "outputs": [
    {
     "name": "stderr",
     "output_type": "stream",
     "text": [
      "c:\\Users\\DELL\\anaconda3\\envs\\PyTorch\\Lib\\site-packages\\whisper\\__init__.py:150: FutureWarning: You are using `torch.load` with `weights_only=False` (the current default value), which uses the default pickle module implicitly. It is possible to construct malicious pickle data which will execute arbitrary code during unpickling (See https://github.com/pytorch/pytorch/blob/main/SECURITY.md#untrusted-models for more details). In a future release, the default value for `weights_only` will be flipped to `True`. This limits the functions that could be executed during unpickling. Arbitrary objects will no longer be allowed to be loaded via this mode unless they are explicitly allowlisted by the user via `torch.serialization.add_safe_globals`. We recommend you start setting `weights_only=True` for any use case where you don't have full control of the loaded file. Please open an issue on GitHub for any issues related to this experimental feature.\n",
      "  checkpoint = torch.load(fp, map_location=device)\n"
     ]
    },
    {
     "name": "stdout",
     "output_type": "stream",
     "text": [
      "* Running on local URL:  http://127.0.0.1:7863\n",
      "* Running on public URL: https://edcd0fe167264c32b0.gradio.live\n",
      "\n",
      "This share link expires in 1 week. For free permanent hosting and GPU upgrades, run `gradio deploy` from the terminal in the working directory to deploy to Hugging Face Spaces (https://huggingface.co/spaces)\n"
     ]
    },
    {
     "data": {
      "text/html": [
       "<div><iframe src=\"https://edcd0fe167264c32b0.gradio.live\" width=\"100%\" height=\"500\" allow=\"autoplay; camera; microphone; clipboard-read; clipboard-write;\" frameborder=\"0\" allowfullscreen></iframe></div>"
      ],
      "text/plain": [
       "<IPython.core.display.HTML object>"
      ]
     },
     "metadata": {},
     "output_type": "display_data"
    },
    {
     "data": {
      "text/plain": []
     },
     "execution_count": 3,
     "metadata": {},
     "output_type": "execute_result"
    }
   ],
   "source": [
    "import gradio as gr\n",
    "import whisper\n",
    "import requests\n",
    "\n",
    "# Load Whisper model (consider using \"medium\" or \"large\" if you have the resources)\n",
    "model = whisper.load_model(\"base\")  # You can change to \"medium\" or \"large\"\n",
    "\n",
    "# Your deployed model API\n",
    "MODAL_API_URL = \"\"\n",
    "\n",
    "# Step 1: Transcribe audio input using Whisper\n",
    "def transcribe_audio(audio):\n",
    "    if audio is None:\n",
    "        return \"\"\n",
    "    try:\n",
    "        # Force English language (change to \"ar\" for Arabic, \"fr\" for French, etc.)\n",
    "        result = model.transcribe(audio, language=\"en\")\n",
    "        return result[\"text\"]\n",
    "    except Exception as e:\n",
    "        return f\"🚨 Transcription error: {e}\"\n",
    "\n",
    "# Step 2: Send text (from voice or typed) to medical model\n",
    "def ask_medical_model(question_text):\n",
    "    if not question_text.strip():\n",
    "        return \"❌ Please enter a valid question.\"\n",
    "    try:\n",
    "        response = requests.post(MODAL_API_URL, json={\"instruction\": question_text})\n",
    "        return response.json().get(\"response\", \"⚠️ No response received.\")\n",
    "    except Exception as e:\n",
    "        return f\"🚨 Error contacting the model: {e}\"\n",
    "\n",
    "# Gradio interface layout\n",
    "with gr.Blocks() as demo:\n",
    "    gr.Markdown(\"## 🧠 Whisper Medical Assistant\\nSpeak or type your medical question. The assistant will respond below.\")\n",
    "\n",
    "    with gr.Row():\n",
    "        audio_input = gr.Audio(sources=[\"microphone\", \"upload\"], type=\"filepath\", label=\"🎙️ Speak your question\")\n",
    "        transcribed_text = gr.Textbox(label=\"📝 Transcribed / Typed Question\", placeholder=\"Will show transcription here (you can edit it).\")\n",
    "\n",
    "    transcribe_button = gr.Button(\"🔄 Transcribe Audio\")\n",
    "    transcribe_button.click(transcribe_audio, inputs=audio_input, outputs=transcribed_text)\n",
    "\n",
    "    submit_button = gr.Button(\"🩺 Ask the Medical Assistant\")\n",
    "    markdown_output = gr.Markdown(label=\"📋 Response\")\n",
    "    submit_button.click(ask_medical_model, inputs=transcribed_text, outputs=markdown_output)\n",
    "\n",
    "demo.launch(share=True)\n"
   ]
  },
  {
   "cell_type": "code",
   "execution_count": null,
   "id": "861eb74d",
   "metadata": {},
   "outputs": [],
   "source": []
  }
 ],
 "metadata": {
  "kernelspec": {
   "display_name": "PyTorch",
   "language": "python",
   "name": "python3"
  },
  "language_info": {
   "codemirror_mode": {
    "name": "ipython",
    "version": 3
   },
   "file_extension": ".py",
   "mimetype": "text/x-python",
   "name": "python",
   "nbconvert_exporter": "python",
   "pygments_lexer": "ipython3",
   "version": "3.11.10"
  }
 },
 "nbformat": 4,
 "nbformat_minor": 5
}
